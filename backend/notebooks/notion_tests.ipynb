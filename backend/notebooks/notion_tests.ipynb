{
 "cells": [
  {
   "cell_type": "markdown",
   "metadata": {},
   "source": [
    "### Используем НОРМАЛЬНЫЙ апи клиент, который по хорошему надо бы интегрировать в дансвер"
   ]
  },
  {
   "cell_type": "code",
   "execution_count": 1,
   "metadata": {},
   "outputs": [],
   "source": [
    "import os\n",
    "from dotenv import load_dotenv\n",
    "load_dotenv()\n",
    "NOTION_API_KEY = os.getenv(\"NOTION_API_KEY\")\n",
    "NOTION_ROOT_ID = os.getenv(\"NOTION_ROOT_ID\")\n",
    "NOTION_DATABASE_ID = os.getenv(\"NOTION_DATABASE_ID\")"
   ]
  },
  {
   "cell_type": "code",
   "execution_count": null,
   "metadata": {},
   "outputs": [],
   "source": [
    "from notion_client import Client, AsyncClient\n",
    "\n",
    "# Initialize a client with the integration token\n",
    "notion = Client(auth=NOTION_API_KEY)\n"
   ]
  },
  {
   "cell_type": "code",
   "execution_count": null,
   "metadata": {},
   "outputs": [],
   "source": [
    "page_id = NOTION_ROOT_ID\n",
    "\n",
    "# Retrieve the page\n",
    "page = notion.pages.retrieve(page_id=page_id)\n",
    "\n",
    "# Print page properties\n",
    "print(page[\"properties\"])\n"
   ]
  },
  {
   "cell_type": "code",
   "execution_count": 4,
   "metadata": {},
   "outputs": [],
   "source": [
    "\n",
    "pages = notion.databases.query(database_id=NOTION_DATABASE_ID) # корретно влзвращает и страницы и теги, но нужно не проморгать пагинацию (has_more и next_cursor)"
   ]
  },
  {
   "cell_type": "code",
   "execution_count": 5,
   "metadata": {},
   "outputs": [],
   "source": [
    "page = pages['results'][1]"
   ]
  },
  {
   "cell_type": "code",
   "execution_count": 6,
   "metadata": {},
   "outputs": [],
   "source": [
    "tag_groups = {}\n",
    "for page in pages['results']:\n",
    "    for property in page['properties']:\n",
    "        if page['properties'][property]['type'] in [\"select\", \"multi_select\"]:\n",
    "            if not property in tag_groups:\n",
    "                tag_groups[property] = set()\n",
    "            info = page['properties'][property]\n",
    "            if info['type'] == 'select':\n",
    "                tag_groups[property].add(info['select']['name'])\n",
    "            else:\n",
    "                tag_groups[property].update([x['name'] for x in info['multi_select']])\n",
    "\n"
   ]
  },
  {
   "cell_type": "code",
   "execution_count": 7,
   "metadata": {},
   "outputs": [],
   "source": [
    "remove_list_for_tags = [\n",
    "    \"115\",\n",
    "    \"18-25\",\n",
    "    \"AMELI\",\n",
    "    \"API\",\n",
    "    \"APL\",\n",
    "    \"APS\",\n",
    "    \"CADA\",\n",
    "    \"CAF\",\n",
    "    \"CIR\",\n",
    "    \"CPAM\",\n",
    "    \"CROUS\",\n",
    "    \"CSS\",\n",
    "    \"CVEC\",\n",
    "    \"CritAir\",\n",
    "    \"EHPAD\",\n",
    "    \"FSL\",\n",
    "    \"HUDA\",\n",
    "    \"MDPH\",\n",
    "    \"OFII\",\n",
    "    \"OFPRA\",\n",
    "    \"OMC\",\n",
    "    \"PACS\",\n",
    "    \"PASS\",\n",
    "    \"PUMa\",\n",
    "    \"RSA\",\n",
    "    \"SPADA\",\n",
    "    \"VAE\",\n",
    "    \"VAPP\",\n",
    "    \"VES\",\n",
    "    \"ZAPI\",\n",
    "    \"asso\",\n",
    "]"
   ]
  },
  {
   "cell_type": "code",
   "execution_count": 8,
   "metadata": {},
   "outputs": [],
   "source": [
    "tag_groups['Tags'] = tag_groups['Tags'] - set(remove_list_for_tags)"
   ]
  },
  {
   "cell_type": "code",
   "execution_count": null,
   "metadata": {},
   "outputs": [],
   "source": [
    "tag_groups"
   ]
  },
  {
   "cell_type": "code",
   "execution_count": 10,
   "metadata": {},
   "outputs": [],
   "source": [
    "# not transform to this format {\"dtags\" : [{\"tag_key\": \"Tags\", \"all_possible_tag_values\" : [\"равенство\",\"женералист\"]}]}\n",
    "tag_groups_formatted = [{\"tag_key\": key, \"all_possible_tag_values\": list(value)} for key, value in tag_groups.items()]"
   ]
  },
  {
   "cell_type": "code",
   "execution_count": 11,
   "metadata": {},
   "outputs": [],
   "source": [
    "# dump to single string json compact as possible\n",
    "import json\n",
    "tag_groups_formatted_json = json.dumps({\"dtags\":tag_groups_formatted}, separators=(',', ':'), ensure_ascii=False)\n",
    "with open('tag_groups.json', 'w') as f:\n",
    "    f.write(tag_groups_formatted_json)"
   ]
  },
  {
   "cell_type": "code",
   "execution_count": null,
   "metadata": {},
   "outputs": [],
   "source": [
    "page['properties']['Select']['select']['name']"
   ]
  },
  {
   "cell_type": "code",
   "execution_count": null,
   "metadata": {},
   "outputs": [],
   "source": [
    "page[\"url\"]"
   ]
  },
  {
   "cell_type": "code",
   "execution_count": null,
   "metadata": {},
   "outputs": [],
   "source": [
    "page[\"properties\"][\"URL\"][\"url\"]"
   ]
  },
  {
   "cell_type": "code",
   "execution_count": 15,
   "metadata": {},
   "outputs": [],
   "source": [
    "id_to_tags = {}\n",
    "for page in pages['results']:\n",
    "    ms_dicts = page['properties']['Tags']['multi_select']\n",
    "    tag_names = [tag[\"name\"] for tag in ms_dicts]\n",
    "    id_to_tags[page['id']] = tag_names"
   ]
  },
  {
   "cell_type": "code",
   "execution_count": null,
   "metadata": {},
   "outputs": [],
   "source": [
    "pages"
   ]
  },
  {
   "cell_type": "code",
   "execution_count": null,
   "metadata": {},
   "outputs": [],
   "source": [
    "id_to_tags[\"f2b1db66-7b1d-4e1d-8c4c-3c8ceb481511\"]"
   ]
  },
  {
   "cell_type": "code",
   "execution_count": null,
   "metadata": {},
   "outputs": [],
   "source": [
    "notion.pages.retrieve(page_id=database_id)"
   ]
  },
  {
   "cell_type": "code",
   "execution_count": null,
   "metadata": {},
   "outputs": [],
   "source": [
    "has_more : bool = pages[\"has_more\"]\n",
    "cursor : str = pages[\"next_cursor\"]"
   ]
  },
  {
   "cell_type": "code",
   "execution_count": null,
   "metadata": {},
   "outputs": [],
   "source": [
    "pages['next_cursor']"
   ]
  },
  {
   "cell_type": "code",
   "execution_count": null,
   "metadata": {},
   "outputs": [],
   "source": [
    "database_id = NOTION_DATABASE_ID\n",
    "notion.databases.retrieve(database_id=database_id)"
   ]
  },
  {
   "cell_type": "code",
   "execution_count": null,
   "metadata": {},
   "outputs": [],
   "source": [
    "def retrieve_blocks(page_id):\n",
    "    all_blocks = []\n",
    "    start_cursor = None\n",
    "    while True:\n",
    "        response = notion.blocks.children.list(block_id=page_id, start_cursor=start_cursor)\n",
    "        blocks = response.get(\"results\", [])\n",
    "        all_blocks.extend(blocks)\n",
    "        if not response.get(\"has_more\", False):\n",
    "            break\n",
    "        start_cursor = response.get(\"next_cursor\", None)\n",
    "    return all_blocks\n",
    "\n",
    "root_page_id = \"a283ff3a46804b39b50e29c566369c2f\"\n",
    "\n",
    "# Retrieve blocks from the root page\n",
    "blocks = retrieve_blocks(root_page_id)\n",
    "visited_ids = set()\n",
    "\n",
    "def retrieve_all_blocks(blocks, level=0):\n",
    "    all_blocks = []\n",
    "    for block in blocks:\n",
    "        if block[\"id\"] not in visited_ids:\n",
    "            #print(\"  \" * level + block[\"type\"], block.get(\"id\", \"\"))\n",
    "            all_blocks.append(block)\n",
    "            visited_ids.add(block[\"id\"])\n",
    "            if block.get(\"has_children\", False):\n",
    "                child_blocks = retrieve_blocks(block[\"id\"])\n",
    "                new_blocks = retrieve_all_blocks(child_blocks, level + 1)\n",
    "                all_blocks.extend(new_blocks) if new_blocks else None\n",
    "    return all_blocks\n",
    "\n",
    "# Start retrieving all nested blocks\n",
    "all_blocks = retrieve_all_blocks(blocks)\n"
   ]
  },
  {
   "cell_type": "code",
   "execution_count": null,
   "metadata": {},
   "outputs": [],
   "source": [
    "for i, block in enumerate(all_blocks):\n",
    "    if \"https://www.defenseurdesdroits.fr/carte-des-delegues\" in str(block):\n",
    "        print(block)\n",
    "        print(i)\n"
   ]
  },
  {
   "cell_type": "code",
   "execution_count": null,
   "metadata": {},
   "outputs": [],
   "source": [
    "print(all_blocks[131])"
   ]
  },
  {
   "cell_type": "markdown",
   "metadata": {},
   "source": [
    "### Используем то что уже зашито в дасвер, чтобы ничего не сломать"
   ]
  },
  {
   "cell_type": "code",
   "execution_count": 1,
   "metadata": {},
   "outputs": [],
   "source": [
    "import os\n",
    "from dotenv import load_dotenv\n",
    "load_dotenv()\n",
    "#NOTION_API_KEY = os.getenv(\"NOTION_API_KEY\")\n",
    "NOTION_API_KEY = os.getenv(\"NOT_NEW_KEY\")\n",
    "NOTION_ROOT_ID = os.getenv(\"NOTION_ROOT_ID\")\n",
    "NOTION_DATABASE_ID = os.getenv(\"NOTION_DATABASE_ID\")"
   ]
  },
  {
   "cell_type": "code",
   "execution_count": 2,
   "metadata": {},
   "outputs": [],
   "source": [
    "from onyx.connectors.notion.connector import NotionConnector"
   ]
  },
  {
   "cell_type": "code",
   "execution_count": null,
   "metadata": {},
   "outputs": [],
   "source": []
  },
  {
   "cell_type": "code",
   "execution_count": null,
   "metadata": {},
   "outputs": [],
   "source": [
    "#connector = NotionConnector(root_page_id=\"f2c93c208bd345038ef7e99f9db7b23e\") # just one page here\n",
    "connector = NotionConnector(root_page_id=NOTION_DATABASE_ID) # database with pages and tags\n",
    "connector.load_credentials({\"notion_integration_token\": NOTION_API_KEY})\n",
    "connector.is_db"
   ]
  },
  {
   "cell_type": "code",
   "execution_count": 4,
   "metadata": {},
   "outputs": [],
   "source": [
    "page_properties_example = {\n",
    "    \"Tags\": {\n",
    "        \"id\": \"BJSo\",\n",
    "        \"type\": \"multi_select\",\n",
    "        \"multi_select\": [\n",
    "            {\n",
    "                \"id\": \"3d4c675d-91b5-4fcd-877c-f7f8ac453733\",\n",
    "                \"name\": \"машина\",\n",
    "                \"color\": \"yellow\",\n",
    "            },\n",
    "            {\n",
    "                \"id\": \"a606a9b2-2a8b-49e7-8713-409df9b3482e\",\n",
    "                \"name\": \"покупка\",\n",
    "                \"color\": \"default\",\n",
    "            },\n",
    "            {\n",
    "                \"id\": \"e19d2072-e62a-4cb4-9545-f1e288202efb\",\n",
    "                \"name\": \"immatriculation\",\n",
    "                \"color\": \"orange\",\n",
    "            },\n",
    "            {\n",
    "                \"id\": \"d342c1e4-3dc2-4977-81ee-46629dc2f6b2\",\n",
    "                \"name\": \"CVEC\",\n",
    "                \"color\": \"blue\",\n",
    "            },\n",
    "        ],\n",
    "    },\n",
    "    \"Last edited time 1\": {\n",
    "        \"id\": \"PRCm\",\n",
    "        \"type\": \"last_edited_time\",\n",
    "        \"last_edited_time\": \"2024-11-21T09:05:00.000Z\",\n",
    "    },\n",
    "    \"Verification\": {\n",
    "        \"id\": \"TEMG\",\n",
    "        \"type\": \"verification\",\n",
    "        \"verification\": {\"state\": \"unverified\", \"verified_by\": None, \"date\": None},\n",
    "    },\n",
    "    \"Select\": {\n",
    "        \"id\": \"%5EClT\",\n",
    "        \"type\": \"select\",\n",
    "        \"select\": {\n",
    "            \"id\": \"75a4353a-5741-4800-8a27-d62e67dd167b\",\n",
    "            \"name\": \"Если вы во Франции\",\n",
    "            \"color\": \"pink\",\n",
    "        },\n",
    "    },\n",
    "    \"Last edited time\": {\n",
    "        \"id\": \"gW%3D%7D\",\n",
    "        \"type\": \"last_edited_time\",\n",
    "        \"last_edited_time\": \"2024-11-21T09:05:00.000Z\",\n",
    "    },\n",
    "    \"URL\": {\"id\": \"h%5D%3D%3E\", \"type\": \"url\", \"url\": None},\n",
    "    \"Multiselect\": {\n",
    "        \"id\": \"lSKn\",\n",
    "        \"type\": \"multi_select\",\n",
    "        \"multi_select\": [\n",
    "            {\n",
    "                \"id\": \"d2f4753d-3123-467e-8f0a-42fa78e949c6\",\n",
    "                \"name\": \"Машина\",\n",
    "                \"color\": \"orange\",\n",
    "            }\n",
    "        ],\n",
    "    },\n",
    "    \"Page\": {\n",
    "        \"id\": \"title\",\n",
    "        \"type\": \"title\",\n",
    "        \"title\": [\n",
    "            {\n",
    "                \"type\": \"mention\",\n",
    "                \"mention\": {\n",
    "                    \"type\": \"page\",\n",
    "                    \"page\": {\"id\": \"53b2b625-c860-4e55-a285-e42d11a7adea\"},\n",
    "                },\n",
    "                \"annotations\": {\n",
    "                    \"bold\": False,\n",
    "                    \"italic\": False,\n",
    "                    \"strikethrough\": False,\n",
    "                    \"underline\": False,\n",
    "                    \"code\": False,\n",
    "                    \"color\": \"default\",\n",
    "                },\n",
    "                \"plain_text\": \"Untitled\",\n",
    "                \"href\": \"https://www.notion.so/53b2b625c8604e55a285e42d11a7adea\",\n",
    "            },\n",
    "            {\n",
    "                \"type\": \"text\",\n",
    "                \"text\": {\"content\": \" \", \"link\": None},\n",
    "                \"annotations\": {\n",
    "                    \"bold\": False,\n",
    "                    \"italic\": False,\n",
    "                    \"strikethrough\": False,\n",
    "                    \"underline\": False,\n",
    "                    \"code\": False,\n",
    "                    \"color\": \"default\",\n",
    "                },\n",
    "                \"plain_text\": \" \",\n",
    "                \"href\": None,\n",
    "            },\n",
    "        ],\n",
    "    },\n",
    "    \"Owner\": {\n",
    "        \"id\": \"notion%3A%2F%2Fwiki%2Fowner_property\",\n",
    "        \"type\": \"people\",\n",
    "        \"people\": [\n",
    "            {\n",
    "                \"object\": \"user\",\n",
    "                \"id\": \"f91b5190-55f4-4f8b-8539-db48cdabb114\",\n",
    "                \"name\": \"Exil Solidaire\",\n",
    "                \"avatar_url\": \"https://s3-us-west-2.amazonaws.com/public.notion-static.com/e2e4a91a-7c8a-41be-a520-2bf991757245/favicon-32x32.png\",\n",
    "                \"type\": \"person\",\n",
    "                \"person\": {\"email\": \"exil-solidaire@proton.me\"},\n",
    "            }\n",
    "        ],\n",
    "    },\n",
    "}"
   ]
  },
  {
   "cell_type": "code",
   "execution_count": null,
   "metadata": {},
   "outputs": [],
   "source": [
    "class DummyPage:\n",
    "    def __init__(self, properties = None):\n",
    "        self.properties = properties\n",
    "    def _extract_source_id_from_href_page(page):\n",
    "        try:\n",
    "            title_objects = page.properties.get('Page', {}).get('title', [])\n",
    "            for obj in title_objects:\n",
    "                if obj.get('type') == 'mention' and 'mention' in obj:\n",
    "                    return obj['mention'].get('page', {}).get('id')\n",
    "            return None\n",
    "        except (AttributeError, KeyError):\n",
    "            return None\n",
    "dummy_page = DummyPage(page_properties_example)\n",
    "print(dummy_page._extract_source_id_from_href_page())"
   ]
  },
  {
   "cell_type": "code",
   "execution_count": null,
   "metadata": {},
   "outputs": [],
   "source": [
    "connector._fetch_page(\"1423888dae8d80e5acbcda8d5412a73a\")"
   ]
  },
  {
   "cell_type": "code",
   "execution_count": null,
   "metadata": {},
   "outputs": [],
   "source": [
    "out = [_ for _ in connector.load_from_state()]"
   ]
  },
  {
   "cell_type": "code",
   "execution_count": null,
   "metadata": {},
   "outputs": [],
   "source": [
    "for doc_batch in out:\n",
    "    for doc in doc_batch:\n",
    "        print(doc)"
   ]
  },
  {
   "cell_type": "code",
   "execution_count": null,
   "metadata": {},
   "outputs": [],
   "source": [
    "pages = [connector._fetch_page(\"a283ff3a46804b39b50e29c566369c2f\")]"
   ]
  },
  {
   "cell_type": "code",
   "execution_count": null,
   "metadata": {},
   "outputs": [],
   "source": [
    "out"
   ]
  },
  {
   "cell_type": "code",
   "execution_count": null,
   "metadata": {},
   "outputs": [],
   "source": [
    "parsed_pages = []\n",
    "for parsed_page in connector._read_pages(pages):\n",
    "    parsed_pages.append(parsed_page)"
   ]
  },
  {
   "cell_type": "code",
   "execution_count": null,
   "metadata": {},
   "outputs": [],
   "source": [
    "for section in parsed_pages[0]:\n",
    "    print(section)"
   ]
  },
  {
   "cell_type": "code",
   "execution_count": null,
   "metadata": {},
   "outputs": [],
   "source": []
  }
 ],
 "metadata": {
  "kernelspec": {
   "display_name": ".venv",
   "language": "python",
   "name": "python3"
  },
  "language_info": {
   "codemirror_mode": {
    "name": "ipython",
    "version": 3
   },
   "file_extension": ".py",
   "mimetype": "text/x-python",
   "name": "python",
   "nbconvert_exporter": "python",
   "pygments_lexer": "ipython3",
   "version": "3.11.9"
  }
 },
 "nbformat": 4,
 "nbformat_minor": 2
}
